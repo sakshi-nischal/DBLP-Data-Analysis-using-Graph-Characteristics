{
  "nbformat": 4,
  "nbformat_minor": 0,
  "metadata": {
    "colab": {
      "provenance": []
    },
    "kernelspec": {
      "name": "python3",
      "display_name": "Python 3"
    },
    "language_info": {
      "name": "python"
    }
  },
  "cells": [
    {
      "cell_type": "markdown",
      "source": [
        "# **DBLP Data Analysis Using Graph Characteristics**"
      ],
      "metadata": {
        "id": "0OFskyjjQPqU"
      }
    },
    {
      "cell_type": "code",
      "execution_count": 1,
      "metadata": {
        "colab": {
          "base_uri": "https://localhost:8080/"
        },
        "id": "gcp-HZtRko7i",
        "outputId": "f7b11a63-7c53-4cfa-d884-b594479d947b"
      },
      "outputs": [
        {
          "output_type": "stream",
          "name": "stdout",
          "text": [
            "Drive already mounted at /content/drive; to attempt to forcibly remount, call drive.mount(\"/content/drive\", force_remount=True).\n"
          ]
        }
      ],
      "source": [
        "#Mounting google drive to colab\n",
        "from google.colab import drive\n",
        "drive.mount('/content/drive')"
      ]
    },
    {
      "cell_type": "markdown",
      "source": [
        "### Importing Libraries"
      ],
      "metadata": {
        "id": "9zQSLtFfQsJC"
      }
    },
    {
      "cell_type": "code",
      "source": [
        "#Importing libraries\n",
        "import pandas as pd\n",
        "import numpy as np\n",
        "import json\n",
        "import re\n",
        "import itertools"
      ],
      "metadata": {
        "id": "h-05ySYfkwC-"
      },
      "execution_count": 2,
      "outputs": []
    },
    {
      "cell_type": "markdown",
      "source": [
        "### Loading Json Files into Dataframes"
      ],
      "metadata": {
        "id": "cx_bolNeQ3Qx"
      }
    },
    {
      "cell_type": "code",
      "source": [
        "dblp_dataset_df=[]"
      ],
      "metadata": {
        "id": "oQXn6W7zDAw_"
      },
      "execution_count": 3,
      "outputs": []
    },
    {
      "cell_type": "code",
      "source": [
        "#Loading data from JSON file 0\n",
        "dblp_dataset_df0=pd.read_json(\"/content/drive/MyDrive/dblp-ref-0.json\", lines=True, chunksize=10000)\n",
        "for chunks in dblp_dataset_df0:\n",
        "  dblp_dataset_df.append(chunks)\n",
        "  break"
      ],
      "metadata": {
        "id": "0U5AZ3Z0k4eb"
      },
      "execution_count": 4,
      "outputs": []
    },
    {
      "cell_type": "code",
      "source": [
        "#Loading data from JSON file 1\n",
        "dblp_dataset_df1=pd.read_json(\"/content/drive/MyDrive/dblp-ref-1.json\", lines=True, chunksize=10000)\n",
        "for chunks in dblp_dataset_df1:\n",
        "  dblp_dataset_df.append(chunks)\n",
        "  break"
      ],
      "metadata": {
        "id": "-Ka3g5TnO4R6"
      },
      "execution_count": 5,
      "outputs": []
    },
    {
      "cell_type": "code",
      "source": [
        "#Loading data from JSON file 2\n",
        "dblp_dataset_df2=pd.read_json(\"/content/drive/MyDrive/dblp-ref-2.json\", lines=True, chunksize=10000)\n",
        "for chunks in dblp_dataset_df2:\n",
        "  dblp_dataset_df.append(chunks)\n",
        "  break"
      ],
      "metadata": {
        "id": "s6kW__VKO-4Z"
      },
      "execution_count": 6,
      "outputs": []
    },
    {
      "cell_type": "code",
      "source": [
        "#Loading data from JSON file 3\n",
        "dblp_dataset_df3=pd.read_json(\"/content/drive/MyDrive/dblp-ref-3.json\", lines=True, chunksize=10000)\n",
        "for chunks in dblp_dataset_df3:\n",
        "  dblp_dataset_df.append(chunks)\n",
        "  break"
      ],
      "metadata": {
        "id": "BEczvsgZPDVb"
      },
      "execution_count": 7,
      "outputs": []
    },
    {
      "cell_type": "code",
      "source": [
        "#Making DataFrame from concatenated chunks\n",
        "dblp_dataset_df=pd.concat(dblp_dataset_df)"
      ],
      "metadata": {
        "id": "8NUQAvdyKTxJ"
      },
      "execution_count": 8,
      "outputs": []
    },
    {
      "cell_type": "markdown",
      "source": [
        "### Taking Random Sample from Data"
      ],
      "metadata": {
        "id": "X1MPnc-QSSWE"
      }
    },
    {
      "cell_type": "code",
      "source": [
        "#Extracting sample from the DataFrame\n",
        "sample_size=5\n",
        "dblp_dataset_df_sample=dblp_dataset_df.sample(sample_size, random_state=27092000)\n",
        "dblp_dataset_df_sample"
      ],
      "metadata": {
        "id": "J2mNa4XAShXD",
        "colab": {
          "base_uri": "https://localhost:8080/",
          "height": 372
        },
        "outputId": "68c0e4bf-436e-4272-bbce-fb027d3daf44"
      },
      "execution_count": 9,
      "outputs": [
        {
          "output_type": "execute_result",
          "data": {
            "text/plain": [
              "                                               abstract  \\\n",
              "3045  Mean-variance criterion has long been the main...   \n",
              "4809  For his JPEGs series started in 2002, German a...   \n",
              "7123  We augment a model of translation based on re-...   \n",
              "5873  We examine the meaning and the complexity of p...   \n",
              "18    Abstract#R##N##R##N#This paper describes a coo...   \n",
              "\n",
              "                                                authors  n_citation  \\\n",
              "3045                     [Fei Lung Yuen, Hailiang Yang]           1   \n",
              "4809                        [Ingrid Hoelzl, Rémi Marie]           0   \n",
              "7123                                    [Daniel Gildea]         175   \n",
              "5873      [Fabio Gagliardi Cozman, Denis Deratani Mauá]           0   \n",
              "18    [Takekazu Kato, Yasuhiro Mukaigawa, Takeshi Sh...          50   \n",
              "\n",
              "                                             references  \\\n",
              "3045                                                 []   \n",
              "4809                                                 []   \n",
              "7123  [05d0ec98-5acc-4675-b1eb-59a960f106e3, 143db26...   \n",
              "5873                                                NaN   \n",
              "18    [2a01060d-15a3-483a-9227-f2a6a733f32c, 6e8cc92...   \n",
              "\n",
              "                                                  title  \\\n",
              "3045  Optimal Asset Allocation: A Worst Scenario Exp...   \n",
              "4809                      CODEC: on Thomas Ruff's JPEGs   \n",
              "7123  Loosely Tree-Based Alignment for Machine Trans...   \n",
              "5873  On the Semantics and Complexity of Probabilist...   \n",
              "18    Cooperative distributed registration for robus...   \n",
              "\n",
              "                                                  venue  year  \\\n",
              "3045    Journal of Optimization Theory and Applications  2012   \n",
              "4809                                 Digital Creativity  2014   \n",
              "7123  meeting of the association for computational l...  2003   \n",
              "5873                     arXiv: Artificial Intelligence  2017   \n",
              "18                       Systems and Computers in Japan  2002   \n",
              "\n",
              "                                        id  \n",
              "3045  4b59d247-5f43-44be-86b7-2abcb7c083fb  \n",
              "4809  4c4e5e56-0af1-40d7-9cf8-a2a12410fea2  \n",
              "7123  4d1371ec-867d-498c-89b7-0b556ef32910  \n",
              "5873  ded30e9c-bf53-4798-874a-bd9a567ee368  \n",
              "18    4aa7797c-5a71-442b-b8fe-5d930591d4d8  "
            ],
            "text/html": [
              "\n",
              "  <div id=\"df-d87f7b55-6178-44be-b5bb-2b687865e037\">\n",
              "    <div class=\"colab-df-container\">\n",
              "      <div>\n",
              "<style scoped>\n",
              "    .dataframe tbody tr th:only-of-type {\n",
              "        vertical-align: middle;\n",
              "    }\n",
              "\n",
              "    .dataframe tbody tr th {\n",
              "        vertical-align: top;\n",
              "    }\n",
              "\n",
              "    .dataframe thead th {\n",
              "        text-align: right;\n",
              "    }\n",
              "</style>\n",
              "<table border=\"1\" class=\"dataframe\">\n",
              "  <thead>\n",
              "    <tr style=\"text-align: right;\">\n",
              "      <th></th>\n",
              "      <th>abstract</th>\n",
              "      <th>authors</th>\n",
              "      <th>n_citation</th>\n",
              "      <th>references</th>\n",
              "      <th>title</th>\n",
              "      <th>venue</th>\n",
              "      <th>year</th>\n",
              "      <th>id</th>\n",
              "    </tr>\n",
              "  </thead>\n",
              "  <tbody>\n",
              "    <tr>\n",
              "      <th>3045</th>\n",
              "      <td>Mean-variance criterion has long been the main...</td>\n",
              "      <td>[Fei Lung Yuen, Hailiang Yang]</td>\n",
              "      <td>1</td>\n",
              "      <td>[]</td>\n",
              "      <td>Optimal Asset Allocation: A Worst Scenario Exp...</td>\n",
              "      <td>Journal of Optimization Theory and Applications</td>\n",
              "      <td>2012</td>\n",
              "      <td>4b59d247-5f43-44be-86b7-2abcb7c083fb</td>\n",
              "    </tr>\n",
              "    <tr>\n",
              "      <th>4809</th>\n",
              "      <td>For his JPEGs series started in 2002, German a...</td>\n",
              "      <td>[Ingrid Hoelzl, Rémi Marie]</td>\n",
              "      <td>0</td>\n",
              "      <td>[]</td>\n",
              "      <td>CODEC: on Thomas Ruff's JPEGs</td>\n",
              "      <td>Digital Creativity</td>\n",
              "      <td>2014</td>\n",
              "      <td>4c4e5e56-0af1-40d7-9cf8-a2a12410fea2</td>\n",
              "    </tr>\n",
              "    <tr>\n",
              "      <th>7123</th>\n",
              "      <td>We augment a model of translation based on re-...</td>\n",
              "      <td>[Daniel Gildea]</td>\n",
              "      <td>175</td>\n",
              "      <td>[05d0ec98-5acc-4675-b1eb-59a960f106e3, 143db26...</td>\n",
              "      <td>Loosely Tree-Based Alignment for Machine Trans...</td>\n",
              "      <td>meeting of the association for computational l...</td>\n",
              "      <td>2003</td>\n",
              "      <td>4d1371ec-867d-498c-89b7-0b556ef32910</td>\n",
              "    </tr>\n",
              "    <tr>\n",
              "      <th>5873</th>\n",
              "      <td>We examine the meaning and the complexity of p...</td>\n",
              "      <td>[Fabio Gagliardi Cozman, Denis Deratani Mauá]</td>\n",
              "      <td>0</td>\n",
              "      <td>NaN</td>\n",
              "      <td>On the Semantics and Complexity of Probabilist...</td>\n",
              "      <td>arXiv: Artificial Intelligence</td>\n",
              "      <td>2017</td>\n",
              "      <td>ded30e9c-bf53-4798-874a-bd9a567ee368</td>\n",
              "    </tr>\n",
              "    <tr>\n",
              "      <th>18</th>\n",
              "      <td>Abstract#R##N##R##N#This paper describes a coo...</td>\n",
              "      <td>[Takekazu Kato, Yasuhiro Mukaigawa, Takeshi Sh...</td>\n",
              "      <td>50</td>\n",
              "      <td>[2a01060d-15a3-483a-9227-f2a6a733f32c, 6e8cc92...</td>\n",
              "      <td>Cooperative distributed registration for robus...</td>\n",
              "      <td>Systems and Computers in Japan</td>\n",
              "      <td>2002</td>\n",
              "      <td>4aa7797c-5a71-442b-b8fe-5d930591d4d8</td>\n",
              "    </tr>\n",
              "  </tbody>\n",
              "</table>\n",
              "</div>\n",
              "      <button class=\"colab-df-convert\" onclick=\"convertToInteractive('df-d87f7b55-6178-44be-b5bb-2b687865e037')\"\n",
              "              title=\"Convert this dataframe to an interactive table.\"\n",
              "              style=\"display:none;\">\n",
              "        \n",
              "  <svg xmlns=\"http://www.w3.org/2000/svg\" height=\"24px\"viewBox=\"0 0 24 24\"\n",
              "       width=\"24px\">\n",
              "    <path d=\"M0 0h24v24H0V0z\" fill=\"none\"/>\n",
              "    <path d=\"M18.56 5.44l.94 2.06.94-2.06 2.06-.94-2.06-.94-.94-2.06-.94 2.06-2.06.94zm-11 1L8.5 8.5l.94-2.06 2.06-.94-2.06-.94L8.5 2.5l-.94 2.06-2.06.94zm10 10l.94 2.06.94-2.06 2.06-.94-2.06-.94-.94-2.06-.94 2.06-2.06.94z\"/><path d=\"M17.41 7.96l-1.37-1.37c-.4-.4-.92-.59-1.43-.59-.52 0-1.04.2-1.43.59L10.3 9.45l-7.72 7.72c-.78.78-.78 2.05 0 2.83L4 21.41c.39.39.9.59 1.41.59.51 0 1.02-.2 1.41-.59l7.78-7.78 2.81-2.81c.8-.78.8-2.07 0-2.86zM5.41 20L4 18.59l7.72-7.72 1.47 1.35L5.41 20z\"/>\n",
              "  </svg>\n",
              "      </button>\n",
              "      \n",
              "  <style>\n",
              "    .colab-df-container {\n",
              "      display:flex;\n",
              "      flex-wrap:wrap;\n",
              "      gap: 12px;\n",
              "    }\n",
              "\n",
              "    .colab-df-convert {\n",
              "      background-color: #E8F0FE;\n",
              "      border: none;\n",
              "      border-radius: 50%;\n",
              "      cursor: pointer;\n",
              "      display: none;\n",
              "      fill: #1967D2;\n",
              "      height: 32px;\n",
              "      padding: 0 0 0 0;\n",
              "      width: 32px;\n",
              "    }\n",
              "\n",
              "    .colab-df-convert:hover {\n",
              "      background-color: #E2EBFA;\n",
              "      box-shadow: 0px 1px 2px rgba(60, 64, 67, 0.3), 0px 1px 3px 1px rgba(60, 64, 67, 0.15);\n",
              "      fill: #174EA6;\n",
              "    }\n",
              "\n",
              "    [theme=dark] .colab-df-convert {\n",
              "      background-color: #3B4455;\n",
              "      fill: #D2E3FC;\n",
              "    }\n",
              "\n",
              "    [theme=dark] .colab-df-convert:hover {\n",
              "      background-color: #434B5C;\n",
              "      box-shadow: 0px 1px 3px 1px rgba(0, 0, 0, 0.15);\n",
              "      filter: drop-shadow(0px 1px 2px rgba(0, 0, 0, 0.3));\n",
              "      fill: #FFFFFF;\n",
              "    }\n",
              "  </style>\n",
              "\n",
              "      <script>\n",
              "        const buttonEl =\n",
              "          document.querySelector('#df-d87f7b55-6178-44be-b5bb-2b687865e037 button.colab-df-convert');\n",
              "        buttonEl.style.display =\n",
              "          google.colab.kernel.accessAllowed ? 'block' : 'none';\n",
              "\n",
              "        async function convertToInteractive(key) {\n",
              "          const element = document.querySelector('#df-d87f7b55-6178-44be-b5bb-2b687865e037');\n",
              "          const dataTable =\n",
              "            await google.colab.kernel.invokeFunction('convertToInteractive',\n",
              "                                                     [key], {});\n",
              "          if (!dataTable) return;\n",
              "\n",
              "          const docLinkHtml = 'Like what you see? Visit the ' +\n",
              "            '<a target=\"_blank\" href=https://colab.research.google.com/notebooks/data_table.ipynb>data table notebook</a>'\n",
              "            + ' to learn more about interactive tables.';\n",
              "          element.innerHTML = '';\n",
              "          dataTable['output_type'] = 'display_data';\n",
              "          await google.colab.output.renderOutput(dataTable, element);\n",
              "          const docLink = document.createElement('div');\n",
              "          docLink.innerHTML = docLinkHtml;\n",
              "          element.appendChild(docLink);\n",
              "        }\n",
              "      </script>\n",
              "    </div>\n",
              "  </div>\n",
              "  "
            ]
          },
          "metadata": {},
          "execution_count": 9
        }
      ]
    },
    {
      "cell_type": "markdown",
      "source": [
        "### Graph 1"
      ],
      "metadata": {
        "id": "rUCGAF18bpox"
      }
    },
    {
      "cell_type": "code",
      "source": [
        "#Extracting unique author names\n",
        "unique_author_name=dblp_dataset_df_sample['authors'].explode().unique()\n",
        "print(\"Count of non unique author names: \", len(dblp_dataset_df_sample['authors'].explode()))\n",
        "print(\"Count of unique author names: \", len(unique_author_name))"
      ],
      "metadata": {
        "id": "xDs8SCNRbuOd",
        "colab": {
          "base_uri": "https://localhost:8080/"
        },
        "outputId": "3c8f4c9d-c508-439e-d1b5-eb0263e489e7"
      },
      "execution_count": 10,
      "outputs": [
        {
          "output_type": "stream",
          "name": "stdout",
          "text": [
            "Count of non unique author names:  10\n",
            "Count of unique author names:  10\n"
          ]
        }
      ]
    },
    {
      "cell_type": "code",
      "source": [
        "#Formatting distinct author names to a naming convention such as A1, A2, A3\n",
        "author_name_convention=['A{}'.format(i) for i in range(1,len(unique_author_name)+1)]"
      ],
      "metadata": {
        "id": "uzgb0NCgcFdZ"
      },
      "execution_count": 11,
      "outputs": []
    },
    {
      "cell_type": "code",
      "source": [
        "#Dictionary to map old names with new names\n",
        "author_dictionary=dict(zip(unique_author_name,author_name_convention))"
      ],
      "metadata": {
        "id": "i-B7q56qJa0t"
      },
      "execution_count": 12,
      "outputs": []
    },
    {
      "cell_type": "code",
      "source": [
        "#Mapping new values of author names to the column of list of authors\n",
        "dblp_dataset_df_sample[\"new_authors\"]=dblp_dataset_df_sample[\"authors\"].apply(lambda x: pd.Series(x).map(author_dictionary).tolist())\n",
        "dblp_dataset_df_sample"
      ],
      "metadata": {
        "colab": {
          "base_uri": "https://localhost:8080/",
          "height": 406
        },
        "id": "Wfs4h1vTLHq9",
        "outputId": "cb44f1f0-ea36-4085-cb6a-80b9cf3d7d92"
      },
      "execution_count": 13,
      "outputs": [
        {
          "output_type": "execute_result",
          "data": {
            "text/plain": [
              "                                               abstract  \\\n",
              "3045  Mean-variance criterion has long been the main...   \n",
              "4809  For his JPEGs series started in 2002, German a...   \n",
              "7123  We augment a model of translation based on re-...   \n",
              "5873  We examine the meaning and the complexity of p...   \n",
              "18    Abstract#R##N##R##N#This paper describes a coo...   \n",
              "\n",
              "                                                authors  n_citation  \\\n",
              "3045                     [Fei Lung Yuen, Hailiang Yang]           1   \n",
              "4809                        [Ingrid Hoelzl, Rémi Marie]           0   \n",
              "7123                                    [Daniel Gildea]         175   \n",
              "5873      [Fabio Gagliardi Cozman, Denis Deratani Mauá]           0   \n",
              "18    [Takekazu Kato, Yasuhiro Mukaigawa, Takeshi Sh...          50   \n",
              "\n",
              "                                             references  \\\n",
              "3045                                                 []   \n",
              "4809                                                 []   \n",
              "7123  [05d0ec98-5acc-4675-b1eb-59a960f106e3, 143db26...   \n",
              "5873                                                NaN   \n",
              "18    [2a01060d-15a3-483a-9227-f2a6a733f32c, 6e8cc92...   \n",
              "\n",
              "                                                  title  \\\n",
              "3045  Optimal Asset Allocation: A Worst Scenario Exp...   \n",
              "4809                      CODEC: on Thomas Ruff's JPEGs   \n",
              "7123  Loosely Tree-Based Alignment for Machine Trans...   \n",
              "5873  On the Semantics and Complexity of Probabilist...   \n",
              "18    Cooperative distributed registration for robus...   \n",
              "\n",
              "                                                  venue  year  \\\n",
              "3045    Journal of Optimization Theory and Applications  2012   \n",
              "4809                                 Digital Creativity  2014   \n",
              "7123  meeting of the association for computational l...  2003   \n",
              "5873                     arXiv: Artificial Intelligence  2017   \n",
              "18                       Systems and Computers in Japan  2002   \n",
              "\n",
              "                                        id    new_authors  \n",
              "3045  4b59d247-5f43-44be-86b7-2abcb7c083fb       [A1, A2]  \n",
              "4809  4c4e5e56-0af1-40d7-9cf8-a2a12410fea2       [A3, A4]  \n",
              "7123  4d1371ec-867d-498c-89b7-0b556ef32910           [A5]  \n",
              "5873  ded30e9c-bf53-4798-874a-bd9a567ee368       [A6, A7]  \n",
              "18    4aa7797c-5a71-442b-b8fe-5d930591d4d8  [A8, A9, A10]  "
            ],
            "text/html": [
              "\n",
              "  <div id=\"df-dec26f8b-5eda-4be9-9b61-87a11d101bf8\">\n",
              "    <div class=\"colab-df-container\">\n",
              "      <div>\n",
              "<style scoped>\n",
              "    .dataframe tbody tr th:only-of-type {\n",
              "        vertical-align: middle;\n",
              "    }\n",
              "\n",
              "    .dataframe tbody tr th {\n",
              "        vertical-align: top;\n",
              "    }\n",
              "\n",
              "    .dataframe thead th {\n",
              "        text-align: right;\n",
              "    }\n",
              "</style>\n",
              "<table border=\"1\" class=\"dataframe\">\n",
              "  <thead>\n",
              "    <tr style=\"text-align: right;\">\n",
              "      <th></th>\n",
              "      <th>abstract</th>\n",
              "      <th>authors</th>\n",
              "      <th>n_citation</th>\n",
              "      <th>references</th>\n",
              "      <th>title</th>\n",
              "      <th>venue</th>\n",
              "      <th>year</th>\n",
              "      <th>id</th>\n",
              "      <th>new_authors</th>\n",
              "    </tr>\n",
              "  </thead>\n",
              "  <tbody>\n",
              "    <tr>\n",
              "      <th>3045</th>\n",
              "      <td>Mean-variance criterion has long been the main...</td>\n",
              "      <td>[Fei Lung Yuen, Hailiang Yang]</td>\n",
              "      <td>1</td>\n",
              "      <td>[]</td>\n",
              "      <td>Optimal Asset Allocation: A Worst Scenario Exp...</td>\n",
              "      <td>Journal of Optimization Theory and Applications</td>\n",
              "      <td>2012</td>\n",
              "      <td>4b59d247-5f43-44be-86b7-2abcb7c083fb</td>\n",
              "      <td>[A1, A2]</td>\n",
              "    </tr>\n",
              "    <tr>\n",
              "      <th>4809</th>\n",
              "      <td>For his JPEGs series started in 2002, German a...</td>\n",
              "      <td>[Ingrid Hoelzl, Rémi Marie]</td>\n",
              "      <td>0</td>\n",
              "      <td>[]</td>\n",
              "      <td>CODEC: on Thomas Ruff's JPEGs</td>\n",
              "      <td>Digital Creativity</td>\n",
              "      <td>2014</td>\n",
              "      <td>4c4e5e56-0af1-40d7-9cf8-a2a12410fea2</td>\n",
              "      <td>[A3, A4]</td>\n",
              "    </tr>\n",
              "    <tr>\n",
              "      <th>7123</th>\n",
              "      <td>We augment a model of translation based on re-...</td>\n",
              "      <td>[Daniel Gildea]</td>\n",
              "      <td>175</td>\n",
              "      <td>[05d0ec98-5acc-4675-b1eb-59a960f106e3, 143db26...</td>\n",
              "      <td>Loosely Tree-Based Alignment for Machine Trans...</td>\n",
              "      <td>meeting of the association for computational l...</td>\n",
              "      <td>2003</td>\n",
              "      <td>4d1371ec-867d-498c-89b7-0b556ef32910</td>\n",
              "      <td>[A5]</td>\n",
              "    </tr>\n",
              "    <tr>\n",
              "      <th>5873</th>\n",
              "      <td>We examine the meaning and the complexity of p...</td>\n",
              "      <td>[Fabio Gagliardi Cozman, Denis Deratani Mauá]</td>\n",
              "      <td>0</td>\n",
              "      <td>NaN</td>\n",
              "      <td>On the Semantics and Complexity of Probabilist...</td>\n",
              "      <td>arXiv: Artificial Intelligence</td>\n",
              "      <td>2017</td>\n",
              "      <td>ded30e9c-bf53-4798-874a-bd9a567ee368</td>\n",
              "      <td>[A6, A7]</td>\n",
              "    </tr>\n",
              "    <tr>\n",
              "      <th>18</th>\n",
              "      <td>Abstract#R##N##R##N#This paper describes a coo...</td>\n",
              "      <td>[Takekazu Kato, Yasuhiro Mukaigawa, Takeshi Sh...</td>\n",
              "      <td>50</td>\n",
              "      <td>[2a01060d-15a3-483a-9227-f2a6a733f32c, 6e8cc92...</td>\n",
              "      <td>Cooperative distributed registration for robus...</td>\n",
              "      <td>Systems and Computers in Japan</td>\n",
              "      <td>2002</td>\n",
              "      <td>4aa7797c-5a71-442b-b8fe-5d930591d4d8</td>\n",
              "      <td>[A8, A9, A10]</td>\n",
              "    </tr>\n",
              "  </tbody>\n",
              "</table>\n",
              "</div>\n",
              "      <button class=\"colab-df-convert\" onclick=\"convertToInteractive('df-dec26f8b-5eda-4be9-9b61-87a11d101bf8')\"\n",
              "              title=\"Convert this dataframe to an interactive table.\"\n",
              "              style=\"display:none;\">\n",
              "        \n",
              "  <svg xmlns=\"http://www.w3.org/2000/svg\" height=\"24px\"viewBox=\"0 0 24 24\"\n",
              "       width=\"24px\">\n",
              "    <path d=\"M0 0h24v24H0V0z\" fill=\"none\"/>\n",
              "    <path d=\"M18.56 5.44l.94 2.06.94-2.06 2.06-.94-2.06-.94-.94-2.06-.94 2.06-2.06.94zm-11 1L8.5 8.5l.94-2.06 2.06-.94-2.06-.94L8.5 2.5l-.94 2.06-2.06.94zm10 10l.94 2.06.94-2.06 2.06-.94-2.06-.94-.94-2.06-.94 2.06-2.06.94z\"/><path d=\"M17.41 7.96l-1.37-1.37c-.4-.4-.92-.59-1.43-.59-.52 0-1.04.2-1.43.59L10.3 9.45l-7.72 7.72c-.78.78-.78 2.05 0 2.83L4 21.41c.39.39.9.59 1.41.59.51 0 1.02-.2 1.41-.59l7.78-7.78 2.81-2.81c.8-.78.8-2.07 0-2.86zM5.41 20L4 18.59l7.72-7.72 1.47 1.35L5.41 20z\"/>\n",
              "  </svg>\n",
              "      </button>\n",
              "      \n",
              "  <style>\n",
              "    .colab-df-container {\n",
              "      display:flex;\n",
              "      flex-wrap:wrap;\n",
              "      gap: 12px;\n",
              "    }\n",
              "\n",
              "    .colab-df-convert {\n",
              "      background-color: #E8F0FE;\n",
              "      border: none;\n",
              "      border-radius: 50%;\n",
              "      cursor: pointer;\n",
              "      display: none;\n",
              "      fill: #1967D2;\n",
              "      height: 32px;\n",
              "      padding: 0 0 0 0;\n",
              "      width: 32px;\n",
              "    }\n",
              "\n",
              "    .colab-df-convert:hover {\n",
              "      background-color: #E2EBFA;\n",
              "      box-shadow: 0px 1px 2px rgba(60, 64, 67, 0.3), 0px 1px 3px 1px rgba(60, 64, 67, 0.15);\n",
              "      fill: #174EA6;\n",
              "    }\n",
              "\n",
              "    [theme=dark] .colab-df-convert {\n",
              "      background-color: #3B4455;\n",
              "      fill: #D2E3FC;\n",
              "    }\n",
              "\n",
              "    [theme=dark] .colab-df-convert:hover {\n",
              "      background-color: #434B5C;\n",
              "      box-shadow: 0px 1px 3px 1px rgba(0, 0, 0, 0.15);\n",
              "      filter: drop-shadow(0px 1px 2px rgba(0, 0, 0, 0.3));\n",
              "      fill: #FFFFFF;\n",
              "    }\n",
              "  </style>\n",
              "\n",
              "      <script>\n",
              "        const buttonEl =\n",
              "          document.querySelector('#df-dec26f8b-5eda-4be9-9b61-87a11d101bf8 button.colab-df-convert');\n",
              "        buttonEl.style.display =\n",
              "          google.colab.kernel.accessAllowed ? 'block' : 'none';\n",
              "\n",
              "        async function convertToInteractive(key) {\n",
              "          const element = document.querySelector('#df-dec26f8b-5eda-4be9-9b61-87a11d101bf8');\n",
              "          const dataTable =\n",
              "            await google.colab.kernel.invokeFunction('convertToInteractive',\n",
              "                                                     [key], {});\n",
              "          if (!dataTable) return;\n",
              "\n",
              "          const docLinkHtml = 'Like what you see? Visit the ' +\n",
              "            '<a target=\"_blank\" href=https://colab.research.google.com/notebooks/data_table.ipynb>data table notebook</a>'\n",
              "            + ' to learn more about interactive tables.';\n",
              "          element.innerHTML = '';\n",
              "          dataTable['output_type'] = 'display_data';\n",
              "          await google.colab.output.renderOutput(dataTable, element);\n",
              "          const docLink = document.createElement('div');\n",
              "          docLink.innerHTML = docLinkHtml;\n",
              "          element.appendChild(docLink);\n",
              "        }\n",
              "      </script>\n",
              "    </div>\n",
              "  </div>\n",
              "  "
            ]
          },
          "metadata": {},
          "execution_count": 13
        }
      ]
    },
    {
      "cell_type": "code",
      "source": [
        "#To check for duplicated values\n",
        "new_authors_values = list(dblp_dataset_df_sample['new_authors'].explode())\n",
        "\n",
        "duplicated_values = {}\n",
        "duplicated_value_count = {x:new_authors_values.count(x) for x in new_authors_values}\n",
        "for key, val in duplicated_value_count.items():\n",
        "  if val > 1:\n",
        "    duplicated_values[key] = val\n",
        "  else:\n",
        "    pass\n",
        "duplicated_values\n"
      ],
      "metadata": {
        "colab": {
          "base_uri": "https://localhost:8080/"
        },
        "id": "a1hscvpJNWcY",
        "outputId": "2891b536-08d0-4675-b9e3-bb6cc3baf36c"
      },
      "execution_count": 14,
      "outputs": [
        {
          "output_type": "execute_result",
          "data": {
            "text/plain": [
              "{}"
            ]
          },
          "metadata": {},
          "execution_count": 14
        }
      ]
    },
    {
      "cell_type": "code",
      "source": [
        "#Making author dictionary with keys as unique auathors and values as the other authors of the paper\n",
        "new_author_list = dblp_dataset_df_sample['new_authors'].tolist()\n",
        "author_dict= {}\n",
        "for i in new_author_list:\n",
        "  for j in i:\n",
        "    if j not in author_dict.keys():\n",
        "      author_dict[j] = [x for x in i if x != j]\n",
        "    else:\n",
        "      a = [x for x in i if x != j]\n",
        "      author_dict[j] = author_dict[j] + [item for item in a if item not in author_dict[j]]\n",
        "print(author_dict)"
      ],
      "metadata": {
        "colab": {
          "base_uri": "https://localhost:8080/"
        },
        "id": "EnNmlMOuPmBf",
        "outputId": "75d0c4c8-5a5d-4a6e-87b0-56ad3b23dd2b"
      },
      "execution_count": 15,
      "outputs": [
        {
          "output_type": "stream",
          "name": "stdout",
          "text": [
            "{'A1': ['A2'], 'A2': ['A1'], 'A3': ['A4'], 'A4': ['A3'], 'A5': [], 'A6': ['A7'], 'A7': ['A6'], 'A8': ['A9', 'A10'], 'A9': ['A8', 'A10'], 'A10': ['A8', 'A9']}\n"
          ]
        }
      ]
    },
    {
      "cell_type": "code",
      "source": [
        "#Author-Author graph\n",
        "import networkx as nx\n",
        "import matplotlib.pyplot as plt\n",
        "%matplotlib inline\n",
        "g = nx.Graph(author_dict)\n",
        "plt.rcParams[\"figure.figsize\"] = (5,5)\n",
        "pos=nx.spring_layout(g, k=0.2, iterations=10)\n",
        "nx.draw(g, pos, with_labels = True,font_size = 8, node_size = 500, node_color = '#ff9933', edge_color='#000000', edgecolors='#000000')\n",
        "plt.show()"
      ],
      "metadata": {
        "colab": {
          "base_uri": "https://localhost:8080/",
          "height": 391
        },
        "id": "UOnn7VYBQvxm",
        "outputId": "c910612d-4e3e-46f5-fc19-0411d3b76982"
      },
      "execution_count": 41,
      "outputs": [
        {
          "output_type": "display_data",
          "data": {
            "text/plain": [
              "<Figure size 360x360 with 1 Axes>"
            ],
            "image/png": "[encoded data removed]"
          },
          "metadata": {}
        }
      ]
    },
    {
      "cell_type": "code",
      "source": [
        "#Writing edge list into text file\n",
        "author_edges = []\n",
        "for x in g.edges():\n",
        "  a=list(re.findall('\\d+',str(x)))\n",
        "  author_edges.append([int(a[0]),int(a[1])])\n",
        "with open(r\"/content/drive/MyDrive/graph1_edgelist.txt\", 'w') as fp:\n",
        "    for item in author_edges:\n",
        "        fp.writelines(str(item[0])+','+ str(item[1])+'\\n')"
      ],
      "metadata": {
        "id": "kkEgr5tfVFGN"
      },
      "execution_count": 17,
      "outputs": []
    },
    {
      "cell_type": "code",
      "source": [
        "#Function to identify the clique size\n",
        "def clique_size(g, k):\n",
        " edge_cnt = 0\n",
        " for clique in nx.find_cliques(g):\n",
        "        if len(clique) == k:\n",
        "            edge_cnt += 1\n",
        "        elif len(clique) > k:\n",
        "           edge_cnt += len(list(itertools.combinations(clique, k)))\n",
        "           return edge_cnt\n",
        "\n",
        "#To find maximum group of authors who are mutually connected\n",
        "print(\"Number of cliques of size 3: \", clique_size(g, 3))\n",
        "print(\"Number of cliques of size 4: \", clique_size(g, 4))\n",
        "print(\"Number of cliques of size 5: \", clique_size(g, 5))"
      ],
      "metadata": {
        "colab": {
          "base_uri": "https://localhost:8080/"
        },
        "id": "4NGNWgUyVJAW",
        "outputId": "9d11ede9-fa98-46aa-f0cf-cefff71415c8"
      },
      "execution_count": 18,
      "outputs": [
        {
          "output_type": "stream",
          "name": "stdout",
          "text": [
            "Number of cliques of size 3:  None\n",
            "Number of cliques of size 4:  None\n",
            "Number of cliques of size 5:  None\n"
          ]
        }
      ]
    },
    {
      "cell_type": "markdown",
      "source": [
        "###Graph 2"
      ],
      "metadata": {
        "id": "cUCQPVL6Vbrw"
      }
    },
    {
      "cell_type": "code",
      "source": [
        "#Removing NaN values from the reference value list\n",
        "unique_reference_value = list(dblp_dataset_df_sample['references'].explode().unique())\n",
        "print(\"Count of unique reference values before removing NaN values: \",len(unique_reference_value))\n",
        "for x in unique_reference_value:\n",
        "  if str(x) == 'nan' or str(x) == 'NaN':\n",
        "    unique_reference_value.remove(x)\n",
        "  else:\n",
        "    pass\n",
        "print(\"Count of unique reference values before removing NaN values: \",len(unique_reference_value))"
      ],
      "metadata": {
        "colab": {
          "base_uri": "https://localhost:8080/"
        },
        "id": "j7YcABfgVg6W",
        "outputId": "6940a8cd-94b7-4b90-a40c-1a86be6364ff"
      },
      "execution_count": 19,
      "outputs": [
        {
          "output_type": "stream",
          "name": "stdout",
          "text": [
            "Count of unique reference values before removing NaN values:  16\n",
            "Count of unique reference values before removing NaN values:  15\n"
          ]
        }
      ]
    },
    {
      "cell_type": "code",
      "source": [
        "#Formatting distinct paper ids to a naming convention such as P1, P2, P3\n",
        "unique_paper = list(set(unique_reference_value + dblp_dataset_df_sample['id'].to_list()))\n",
        "non_unique_paper = unique_reference_value + dblp_dataset_df_sample['id'].to_list()\n",
        "paper_name_convention=['P{}'.format(i) for i in range(1,len(unique_paper)+1)]\n",
        "print(\"Count of unique papers: \",len(unique_paper))\n",
        "print(\"Count of non unique papers: \", len(non_unique_paper))"
      ],
      "metadata": {
        "colab": {
          "base_uri": "https://localhost:8080/"
        },
        "id": "NAVLxJoFW9FU",
        "outputId": "5d0dda55-337d-4b6b-e196-be153af2528e"
      },
      "execution_count": 20,
      "outputs": [
        {
          "output_type": "stream",
          "name": "stdout",
          "text": [
            "Count of unique papers:  20\n",
            "Count of non unique papers:  20\n"
          ]
        }
      ]
    },
    {
      "cell_type": "code",
      "source": [
        "#Dictionary to map old names with new names\n",
        "paper_dictionary=dict(zip(unique_paper,paper_name_convention))"
      ],
      "metadata": {
        "id": "EUYTyArWXbYC"
      },
      "execution_count": 21,
      "outputs": []
    },
    {
      "cell_type": "code",
      "source": [
        "#Mapping new values of references names to the column of list of references\n",
        "dblp_dataset_df_sample[\"new_references\"]=dblp_dataset_df_sample[\"references\"].apply(lambda x: pd.Series(x).map(paper_dictionary).to_list())\n",
        "dblp_dataset_df_sample[\"new_id\"]=dblp_dataset_df_sample[\"id\"].apply(lambda x: pd.Series(x).map(paper_dictionary))"
      ],
      "metadata": {
        "colab": {
          "base_uri": "https://localhost:8080/"
        },
        "id": "y3Li26sFYCkp",
        "outputId": "78cc2f87-e2c4-439c-9ea2-dc1e9cd6f49b"
      },
      "execution_count": 22,
      "outputs": [
        {
          "output_type": "stream",
          "name": "stderr",
          "text": [
            "/usr/local/lib/python3.7/dist-packages/ipykernel_launcher.py:2: DeprecationWarning: The default dtype for empty Series will be 'object' instead of 'float64' in a future version. Specify a dtype explicitly to silence this warning.\n",
            "  \n"
          ]
        }
      ]
    },
    {
      "cell_type": "code",
      "source": [
        "#Dictionary to map ID and references\n",
        "id_reference_dict =dict(zip(dblp_dataset_df_sample['new_id'],dblp_dataset_df_sample['new_references']))"
      ],
      "metadata": {
        "id": "47vYq0iC5U1o"
      },
      "execution_count": 23,
      "outputs": []
    },
    {
      "cell_type": "code",
      "source": [
        "#Removing keys with NaN values\n",
        "print(\"Count of unique id-reference values after removing NaN key values: \", len(id_reference_dict.keys()))\n",
        "new_id_ref = {}\n",
        "for key, val in id_reference_dict.copy().items():\n",
        "  if str(val) == '[]' or str(val) == '[nan]':\n",
        "    del id_reference_dict[key]\n",
        "  else:\n",
        "    pass\n",
        "print(\"Count of unique id-reference values after removing NaN key values: \", len(id_reference_dict.keys()))"
      ],
      "metadata": {
        "colab": {
          "base_uri": "https://localhost:8080/"
        },
        "id": "fFxNrIRqYqDX",
        "outputId": "db93802f-d8d5-4378-ff44-d684cd46c003"
      },
      "execution_count": 24,
      "outputs": [
        {
          "output_type": "stream",
          "name": "stdout",
          "text": [
            "Count of unique id-reference values after removing NaN key values:  5\n",
            "Count of unique id-reference values after removing NaN key values:  2\n"
          ]
        }
      ]
    },
    {
      "cell_type": "code",
      "source": [
        "#Paper citation graph\n",
        "g = nx.DiGraph(id_reference_dict)\n",
        "#g.remove_edges_from(nx.selfloop_edges(g))\n",
        "plt.rcParams[\"figure.figsize\"] = (5,5)\n",
        "node_color_map = [\"#ffaa00\" if node in id_reference_dict.keys() else \"#3399ff\" for node in g]\n",
        "pos=nx.spring_layout(g, k=0.2, iterations=30)\n",
        "nx.draw(g, pos, with_labels = True,font_size = 8, node_size = 500, node_color = node_color_map,  edgecolors='#000000')\n",
        "plt.show()"
      ],
      "metadata": {
        "colab": {
          "base_uri": "https://localhost:8080/",
          "height": 391
        },
        "id": "RxGiBzuXZvuC",
        "outputId": "dc2e23e5-d128-4861-97ee-33fdc12dacf0"
      },
      "execution_count": 45,
      "outputs": [
        {
          "output_type": "display_data",
          "data": {
            "text/plain": [
              "<Figure size 360x360 with 1 Axes>"
            ],
            "image/png": "[encoded data removed]"
          },
          "metadata": {}
        }
      ]
    },
    {
      "cell_type": "code",
      "source": [
        "#Top 10 papers that are cited most from these two years\n",
        "d=nx.in_degree_centrality(g)\n",
        "top_ten_papers=[]\n",
        "for x in sorted(d, key=d.get, reverse=True):\n",
        "    top_ten_papers.append(x)\n",
        "top_ten_papers = top_ten_papers[0:10]\n",
        "temp = {j:i for i,j in paper_dictionary.items()}\n",
        "print('Top 10 most cited papers: ')\n",
        "for i in top_ten_papers:\n",
        "  print(temp[i])"
      ],
      "metadata": {
        "colab": {
          "base_uri": "https://localhost:8080/"
        },
        "id": "qXPntAfvjeLN",
        "outputId": "cfbb748c-4065-44e6-9660-c27bd094efa1"
      },
      "execution_count": 26,
      "outputs": [
        {
          "output_type": "stream",
          "name": "stdout",
          "text": [
            "Top 10 most cited papers: \n",
            "05d0ec98-5acc-4675-b1eb-59a960f106e3\n",
            "143db266-038d-4496-882d-bc1abbd6c57c\n",
            "2b38d13a-b290-4cff-a15c-74ded2cd1095\n",
            "2b8b4fd7-021d-4a7d-a8f1-8ad301f80a18\n",
            "39a44489-0d56-4f78-abc6-db74c3a29d4e\n",
            "452afc43-c279-4073-a560-11e917e9d8bf\n",
            "5443ee2f-a083-4829-bfd3-b92e50b6d78e\n",
            "5faf992e-2f58-40c8-a9e2-ef2de4bb2262\n",
            "8a74ac4d-031f-408c-a6a3-ae8718fb4fe7\n",
            "c3575d4a-31ba-4089-abbc-0d47a81929dd\n"
          ]
        }
      ]
    },
    {
      "cell_type": "code",
      "source": [
        "#Writing edge list into text file\n",
        "edges_references = []\n",
        "for i in g.edges():\n",
        "  a=list(re.findall('\\d+',str(i)))\n",
        "  edges_references.append([int(a[0]),int(a[1])])\n",
        "with open(r\"/content/drive/MyDrive/graph2_edgelist.txt\", 'w') as fp:\n",
        "    for item in edges_references:\n",
        "        fp.writelines(str(item[0])+','+ str(item[1])+'\\n')"
      ],
      "metadata": {
        "id": "SXR2jZNXaK9M"
      },
      "execution_count": 27,
      "outputs": []
    },
    {
      "cell_type": "markdown",
      "source": [
        "### Graph 3"
      ],
      "metadata": {
        "id": "oVsEZGemaZ40"
      }
    },
    {
      "cell_type": "code",
      "source": [
        "#Removing NaN values from the venue column\n",
        "unique_venue_values = dblp_dataset_df_sample['venue'].unique().tolist()\n",
        "for i in unique_venue_values:\n",
        "  if i == '' or str(i) == 'NaN':\n",
        "    unique_venue_values.remove(i)\n",
        "  else:\n",
        "    pass"
      ],
      "metadata": {
        "id": "EHHGIroCacoe"
      },
      "execution_count": 28,
      "outputs": []
    },
    {
      "cell_type": "code",
      "source": [
        "#Formatting distinct venue names to a naming convention such as V10000, V10001, V10002\n",
        "venue_name_convention=['V{}'.format(i + 9999) for i in range(1,len(unique_venue_values)+1)]"
      ],
      "metadata": {
        "id": "fgV6k_1xanzH"
      },
      "execution_count": 29,
      "outputs": []
    },
    {
      "cell_type": "code",
      "source": [
        "#Dictionary to map old names with new names\n",
        "venue_dictionary=dict(zip(unique_venue_values,venue_name_convention))"
      ],
      "metadata": {
        "id": "D_ApNC_7a0-N"
      },
      "execution_count": 30,
      "outputs": []
    },
    {
      "cell_type": "code",
      "source": [
        "#Mapping new values of venue names to the column venue\n",
        "dblp_dataset_df_sample[\"new_venue\"]=dblp_dataset_df_sample['venue'].apply(lambda x: pd.Series(x).map(venue_dictionary))"
      ],
      "metadata": {
        "id": "09SP6Vpea_sM"
      },
      "execution_count": 31,
      "outputs": []
    },
    {
      "cell_type": "code",
      "source": [
        "##Dictionary to map venue with author\n",
        "venue_author_dicionary=dict(zip(dblp_dataset_df_sample['new_venue'], dblp_dataset_df_sample['new_authors']))"
      ],
      "metadata": {
        "id": "7WjPahU65Jhr"
      },
      "execution_count": 32,
      "outputs": []
    },
    {
      "cell_type": "code",
      "source": [
        "#Check for NaN values\n",
        "for x in venue_author_dicionary.copy():\n",
        "  if type(x) == float:\n",
        "    venue_author_dicionary.pop(x)\n",
        "venue_author_dicionary"
      ],
      "metadata": {
        "colab": {
          "base_uri": "https://localhost:8080/"
        },
        "id": "OVvXVqmmbawl",
        "outputId": "989eddbc-6299-442e-d259-fdef1cd87c5f"
      },
      "execution_count": 33,
      "outputs": [
        {
          "output_type": "execute_result",
          "data": {
            "text/plain": [
              "{'V10000': ['A1', 'A2'],\n",
              " 'V10001': ['A3', 'A4'],\n",
              " 'V10002': ['A5'],\n",
              " 'V10003': ['A6', 'A7'],\n",
              " 'V10004': ['A8', 'A9', 'A10']}"
            ]
          },
          "metadata": {},
          "execution_count": 33
        }
      ]
    },
    {
      "cell_type": "code",
      "source": [
        "#Mapping author and venue columns\n",
        "author_venue_dict = {}\n",
        "for key, value in venue_author_dicionary.items():\n",
        "    for author in venue_author_dicionary[key]:\n",
        "      if author not in author_venue_dict.keys():\n",
        "        author_venue_dict[author] = [key]\n",
        "      else:\n",
        "        author_venue_dict[author].extend([key])\n",
        "print(author_venue_dict)"
      ],
      "metadata": {
        "colab": {
          "base_uri": "https://localhost:8080/"
        },
        "id": "YVBma2mbb0uT",
        "outputId": "ff6063cf-6a1e-43e8-aa1a-af60f0ff539b"
      },
      "execution_count": 34,
      "outputs": [
        {
          "output_type": "stream",
          "name": "stdout",
          "text": [
            "{'A1': ['V10000'], 'A2': ['V10000'], 'A3': ['V10001'], 'A4': ['V10001'], 'A5': ['V10002'], 'A6': ['V10003'], 'A7': ['V10003'], 'A8': ['V10004'], 'A9': ['V10004'], 'A10': ['V10004']}\n"
          ]
        }
      ]
    },
    {
      "cell_type": "code",
      "source": [
        "#Dictionary to map venue and year\n",
        "venue_year_dictionary = dict(zip(dblp_dataset_df_sample['new_venue'], dblp_dataset_df_sample['year']))"
      ],
      "metadata": {
        "id": "bm93it2t40C-"
      },
      "execution_count": 35,
      "outputs": []
    },
    {
      "cell_type": "code",
      "source": [
        "#Author-Venue graph\n",
        "g = nx.Graph(venue_author_dicionary)\n",
        "#g.remove_edges_from(nx.selfloop_edges(g))\n",
        "plt.rcParams[\"figure.figsize\"] = (5,5)\n",
        "color_map = [\"#3399ff\" if node in venue_author_dicionary.keys() else \"#ffaa00\" for node in g]\n",
        "node_size_map = [900 if node in venue_author_dicionary.keys() else 500 for node in g]\n",
        "pos=nx.spring_layout(g, k=0.3, iterations=20)\n",
        "nx.draw(g, pos, with_labels = True,font_size = 8, node_size = node_size_map, node_color = color_map, edgecolors='#000000')\n",
        "plt.show()"
      ],
      "metadata": {
        "colab": {
          "base_uri": "https://localhost:8080/",
          "height": 391
        },
        "id": "nxNsqUOrcSy8",
        "outputId": "04e86b50-af75-4d81-ac41-d30c6a72b3f8"
      },
      "execution_count": 56,
      "outputs": [
        {
          "output_type": "display_data",
          "data": {
            "text/plain": [
              "<Figure size 360x360 with 1 Axes>"
            ],
            "image/png": "[encoded data removed]"
          },
          "metadata": {}
        }
      ]
    },
    {
      "cell_type": "code",
      "source": [
        "#Writing edge list into text file\n",
        "edges_venue = []\n",
        "for i in g.edges():\n",
        "  a=list(re.findall('\\d+',str(i)))\n",
        "  edges_venue.append([int(a[0]),int(a[1])])\n",
        "with open(r\"/content/drive/MyDrive/graph3_edgelist.txt\", 'w') as fp:\n",
        "    for item in edges_venue:\n",
        "        fp.writelines(str(item[0])+','+ str(item[1])+'\\n')"
      ],
      "metadata": {
        "id": "XPd8HtGWcWjV"
      },
      "execution_count": 38,
      "outputs": []
    }
  ]
}